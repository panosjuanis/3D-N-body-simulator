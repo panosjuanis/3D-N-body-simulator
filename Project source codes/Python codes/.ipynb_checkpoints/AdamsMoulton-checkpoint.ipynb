{
 "cells": [
  {
   "cell_type": "code",
   "execution_count": 6,
   "metadata": {},
   "outputs": [],
   "source": [
    "#Library imports\n",
    "import numpy as np\n",
    "import matplotlib.pyplot as plt\n",
    "from mpl_toolkits.mplot3d import Axes3D"
   ]
  },
  {
   "cell_type": "code",
   "execution_count": 7,
   "metadata": {},
   "outputs": [],
   "source": [
    "def rk4(t,dt,y,evaluate): #Used to evaluate the first n steps\n",
    "    k1 = dt * evaluate(t, y) \n",
    "    k2 = dt * evaluate(t + 0.5*dt, y + 0.5*k1)\n",
    "    k3 = dt * evaluate(t + 0.5*dt, y + 0.5*k2)\n",
    "    k4 = dt * evaluate(t + dt, y + k3)\n",
    "    \n",
    "    y_new = y + (1/6.)*(k1+ 2*k2 + 2*k3 + k4)\n",
    "    \n",
    "    return y_new"
   ]
  },
  {
   "cell_type": "code",
   "execution_count": 8,
   "metadata": {},
   "outputs": [],
   "source": [
    "def evaluate(t, y):\n",
    "    NBodies = int(len(y)/6)\n",
    "    solved_vector = np.zeros(y.size)\n",
    "    \n",
    "    for i in range(NBodies):\n",
    "        ioffset = i*6\n",
    "        \n",
    "        for j in range(NBodies):\n",
    "            joffset = j*6\n",
    "            solved_vector[ioffset:ioffset+3] = y[ioffset+3:ioffset+6]\n",
    "            \n",
    "            if i != j:\n",
    "                d = y[ioffset:ioffset+3] - y[joffset:joffset+3]\n",
    "                r = np.sqrt(np.sum(d**2))\n",
    "                a = d*G*masses[j]/(r**3)\n",
    "                solved_vector[ioffset+3:ioffset+6] += a\n",
    "    \n",
    "    return solved_vector"
   ]
  },
  {
   "cell_type": "code",
   "execution_count": 9,
   "metadata": {},
   "outputs": [],
   "source": [
    "def AdamsMoulton(t,dt,y,evaluate):\n",
    "    w1 = y[1]\n",
    "    w2 = y[2]\n",
    "    w3 = y[3]\n",
    "    w4 =  AdamsBashforth(t, dt, y, evaluate) \n",
    "    \n",
    "    t1 = t - 3*dt\n",
    "    t2 = t - 2*dt\n",
    "    t3 = t - 1*dt\n",
    "    t4 = t\n",
    "    \n",
    "    w4 = w3 + (dt/24)*(9*evaluate(t4, w4) + 19*evaluate(t3, w3) - 5*evaluate(t2, w2) + evaluate(t1, w1))\n",
    "    \n",
    "    return w4"
   ]
  },
  {
   "cell_type": "code",
   "execution_count": 10,
   "metadata": {},
   "outputs": [],
   "source": [
    "def runAM(T, dt, y0, masses, evaluate, historyAux, t0 = 0):\n",
    "    nsteps = int((T-t0)/dt)\n",
    "    history = np.empty((nsteps+1, len(y0)))\n",
    "    history[0, :] = y0\n",
    "    \n",
    "    t = t0\n",
    "    for i in range(3):\n",
    "        history[i+1] = rk4(t, dt, history[i,:], evaluate) \n",
    "        t += dt\n",
    "        \n",
    "    for i in range(3, nsteps):\n",
    "        history[i+1] = AdamsMoulton(t, dt, historyAux[i-3:i+2,:], evaluate) \n",
    "        t += dt\n",
    "    \n",
    "    \n",
    "    return history"
   ]
  }
 ],
 "metadata": {
  "kernelspec": {
   "display_name": "Python [conda env:py37vision] *",
   "language": "python",
   "name": "conda-env-py37vision-py"
  },
  "language_info": {
   "codemirror_mode": {
    "name": "ipython",
    "version": 3
   },
   "file_extension": ".py",
   "mimetype": "text/x-python",
   "name": "python",
   "nbconvert_exporter": "python",
   "pygments_lexer": "ipython3",
   "version": "3.7.9"
  }
 },
 "nbformat": 4,
 "nbformat_minor": 4
}
