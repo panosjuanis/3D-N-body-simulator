{
 "cells": [
  {
   "cell_type": "code",
   "execution_count": 1,
   "metadata": {},
   "outputs": [],
   "source": [
    "# Library imports\n",
    "import scipy\n",
    "import numpy as np\n",
    "import matplotlib.pyplot as plt\n",
    "from mpl_toolkits.mplot3d import Axes3D"
   ]
  },
  {
   "cell_type": "code",
   "execution_count": 2,
   "metadata": {},
   "outputs": [],
   "source": [
    "def getAcceleration(t, y): #Returns vector of 0 in v, a in acc\n",
    "    NBodies = int(len(y)/6)\n",
    "    accelerations = np.zeros(y.size)\n",
    "    \n",
    "    for i in range(NBodies):\n",
    "        ioffset = i*6\n",
    "        \n",
    "        for j in range(NBodies):\n",
    "            joffset = j*6\n",
    "            accelerations[ioffset:ioffset+3] = 0\n",
    "            \n",
    "            if i != j:\n",
    "                d = y[ioffset:ioffset+3] - y[joffset:joffset+3]\n",
    "                r = np.sqrt(np.sum(d**2))\n",
    "                a = d*G*masses[j]/(r**3)\n",
    "                accelerations[ioffset+3:ioffset+6] += a\n",
    "    \n",
    "    return accelerations"
   ]
  },
  {
   "cell_type": "code",
   "execution_count": 3,
   "metadata": {},
   "outputs": [],
   "source": [
    "def getVelocities(y):\n",
    "    NBodies = int(len(y)/6)\n",
    "    velocities = np.zeros(y.size)\n",
    "    \n",
    "    for i in range(NBodies):\n",
    "        ioffset = i*6\n",
    "        \n",
    "        for j in range(NBodies):\n",
    "            joffset = j*6\n",
    "            velocities[ioffset:ioffset+3] = y[ioffset+3:ioffset+6]\n",
    "            \n",
    "    return velocities"
   ]
  },
  {
   "cell_type": "code",
   "execution_count": 4,
   "metadata": {},
   "outputs": [],
   "source": [
    "def LeapFrog(t, dt, y):\n",
    "    y_new = y + getAcceleration(t, y)*dt/2\n",
    "    \n",
    "    y_new =y_new + getVelocities(y_new) * dt\n",
    "    \n",
    "    y_new = y_new + getAcceleration(t, y_new)*dt/2\n",
    "    \n",
    "    return y_new"
   ]
  },
  {
   "cell_type": "code",
   "execution_count": 87,
   "metadata": {},
   "outputs": [],
   "source": [
    "def runLeapFrog(T, dt, y0, masses, t0 = 0):\n",
    "    nsteps = int((T-t0)/dt)\n",
    "    history = np.empty((nsteps+1, len(y0)))\n",
    "    energies = np.empty((nsteps+1, 2))\n",
    "    A = np.empty((nsteps+1))\n",
    "    \n",
    "    history[0, :] = y0\n",
    "    energies[0,:], A[0,0] = getEnergyAndAMomentum(y0, masses)\n",
    "    \n",
    "    t = t0\n",
    "    for i in range(nsteps):\n",
    "        history[i+1] = LeapFrog(t, dt, history[i,:])\n",
    "        energies[i+1,:] = getEnergyAndAMomentum(history[i+1],masses)\n",
    "        t += dt\n",
    "\n",
    "    return history, energies"
   ]
  },
  {
   "cell_type": "code",
   "execution_count": 98,
   "metadata": {},
   "outputs": [],
   "source": [
    "def getEnergyAndAMomentum(y, masses):\n",
    "    v = getVelocities(y).copy().reshape((-1,6))[:,:3]\n",
    "    m = masses.copy().reshape((-1,1))\n",
    "    KE = 0.5 * np.sum(np.sum( m * v**2 ))\n",
    "    \n",
    "    \n",
    "    yAux = y.copy().reshape((-1,6))\n",
    "    \n",
    "    \n",
    "    x = yAux[:,0].reshape(-1, 1)\n",
    "    y = yAux[:,1].reshape(-1, 1)\n",
    "    z = yAux[:,2].reshape(-1, 1)\n",
    "    \n",
    "    dx = x.T - x\n",
    "    dy = y.T - y\n",
    "    dz = z.T - z\n",
    "    \n",
    "    \n",
    "    inv_r = np.sqrt(dx**2 + dy**2 + dz**2)\n",
    "    inv_r[inv_r>0] = 1.0/inv_r[inv_r>0]\n",
    "\n",
    "    PE = -G * np.sum(np.sum(np.triu(-(m*m.T)*inv_r,1)))\n",
    "    \n",
    "    A = np.zeros((3, 1))\n",
    "    for i in range(len(y)//6):\n",
    "        A += np.cross(yAux[i,:3], yAux[i,3:]*m[i])\n",
    "    \n",
    "    \n",
    "    return KE, PE, A"
   ]
  },
  {
   "cell_type": "code",
   "execution_count": 99,
   "metadata": {},
   "outputs": [],
   "source": [
    "# Variable declaration 1\n",
    "G = -6.67*(10**-11)\n",
    "t0 = 0\n",
    "T = 6.221e6\n",
    "dt = 3600  \n",
    "y0 = np.array([3.84e8, 0, 0, 0, 1000, 0,\n",
    "               0, 0, 0, 0, 0, 0])\n",
    "masses = np.array([7.347e22, 5.97e24])"
   ]
  },
  {
   "cell_type": "code",
   "execution_count": 100,
   "metadata": {},
   "outputs": [],
   "source": [
    "# Variable declaration 2 -> Saturn, Janus and Epithemeus\n",
    "G = -6.67*(10**-20)\n",
    "t0 = 0\n",
    "T = 6.221e6\n",
    "dt = 360\n",
    "y0 = np.array([0, 0, 0, 0, 0, 0,                                  #Saturn\n",
    "               0.11e6, 0.93e5, -0.17e5, -0.99e1, 0.12e2, -0.8e-1, #Janus\n",
    "              0.19e5, -0.14e6,0.15e5,0.16e2, 0.17e1, -0.15e1])    #Epithemeus\n",
    "masses = np.array([5.68e26, 1.89e18, 5.26e17])"
   ]
  },
  {
   "cell_type": "code",
   "execution_count": 101,
   "metadata": {},
   "outputs": [],
   "source": [
    "# Variable declaration 4 -> figure 8\n",
    "G = -1\n",
    "t0 = 0\n",
    "T = 5\n",
    "dt = 0.01\n",
    "y0 = np.array([0.97000436, -0.24308753, 0,  0.93240737/2, 0.86473146/2, 0,\n",
    "                -0.97000436, 0.24308753,0, 0.93240737/2, 0.86473146/2, 0,\n",
    "                0,0,0,-0.93240737,  -0.86473146,0])\n",
    "masses = np.array([1, 1, 1])"
   ]
  },
  {
   "cell_type": "code",
   "execution_count": 102,
   "metadata": {},
   "outputs": [
    {
     "ename": "ValueError",
     "evalue": "cannot copy sequence with size 3 to array axis with dimension 2",
     "output_type": "error",
     "traceback": [
      "\u001b[1;31m---------------------------------------------------------------------------\u001b[0m",
      "\u001b[1;31mValueError\u001b[0m                                Traceback (most recent call last)",
      "\u001b[1;32m<ipython-input-102-a8f065edafe8>\u001b[0m in \u001b[0;36m<module>\u001b[1;34m\u001b[0m\n\u001b[1;32m----> 1\u001b[1;33m \u001b[0mhistory\u001b[0m\u001b[1;33m,\u001b[0m \u001b[0menergies\u001b[0m\u001b[1;33m,\u001b[0m \u001b[0mA\u001b[0m \u001b[1;33m=\u001b[0m \u001b[0mrunLeapFrog\u001b[0m\u001b[1;33m(\u001b[0m\u001b[0mT\u001b[0m\u001b[1;33m,\u001b[0m \u001b[0mdt\u001b[0m\u001b[1;33m,\u001b[0m \u001b[0my0\u001b[0m\u001b[1;33m,\u001b[0m \u001b[0mmasses\u001b[0m\u001b[1;33m)\u001b[0m\u001b[1;33m\u001b[0m\u001b[1;33m\u001b[0m\u001b[0m\n\u001b[0m\u001b[0;32m      2\u001b[0m \u001b[1;33m\u001b[0m\u001b[0m\n\u001b[0;32m      3\u001b[0m \u001b[0mfig\u001b[0m \u001b[1;33m=\u001b[0m \u001b[0mplt\u001b[0m\u001b[1;33m.\u001b[0m\u001b[0mfigure\u001b[0m\u001b[1;33m(\u001b[0m\u001b[1;33m)\u001b[0m\u001b[1;33m\u001b[0m\u001b[1;33m\u001b[0m\u001b[0m\n\u001b[0;32m      4\u001b[0m \u001b[0mfig\u001b[0m\u001b[1;33m.\u001b[0m\u001b[0msuptitle\u001b[0m\u001b[1;33m(\u001b[0m\u001b[1;34m'Prediction with Leapfrog method'\u001b[0m\u001b[1;33m,\u001b[0m \u001b[0mfontsize\u001b[0m\u001b[1;33m=\u001b[0m\u001b[1;36m16\u001b[0m\u001b[1;33m)\u001b[0m\u001b[1;33m\u001b[0m\u001b[1;33m\u001b[0m\u001b[0m\n\u001b[0;32m      5\u001b[0m \u001b[0max\u001b[0m \u001b[1;33m=\u001b[0m \u001b[0mplt\u001b[0m\u001b[1;33m.\u001b[0m\u001b[0maxes\u001b[0m\u001b[1;33m(\u001b[0m\u001b[0mprojection\u001b[0m\u001b[1;33m=\u001b[0m\u001b[1;34m'3d'\u001b[0m\u001b[1;33m)\u001b[0m\u001b[1;33m\u001b[0m\u001b[1;33m\u001b[0m\u001b[0m\n",
      "\u001b[1;32m<ipython-input-87-84585f64522a>\u001b[0m in \u001b[0;36mrunLeapFrog\u001b[1;34m(T, dt, y0, masses, t0)\u001b[0m\n\u001b[0;32m      5\u001b[0m \u001b[1;33m\u001b[0m\u001b[0m\n\u001b[0;32m      6\u001b[0m     \u001b[0mhistory\u001b[0m\u001b[1;33m[\u001b[0m\u001b[1;36m0\u001b[0m\u001b[1;33m,\u001b[0m \u001b[1;33m:\u001b[0m\u001b[1;33m]\u001b[0m \u001b[1;33m=\u001b[0m \u001b[0my0\u001b[0m\u001b[1;33m\u001b[0m\u001b[1;33m\u001b[0m\u001b[0m\n\u001b[1;32m----> 7\u001b[1;33m     \u001b[0menergies\u001b[0m\u001b[1;33m[\u001b[0m\u001b[1;36m0\u001b[0m\u001b[1;33m,\u001b[0m\u001b[1;33m:\u001b[0m\u001b[1;33m]\u001b[0m \u001b[1;33m=\u001b[0m \u001b[0mgetEnergyAndAMomentum\u001b[0m\u001b[1;33m(\u001b[0m\u001b[0my0\u001b[0m\u001b[1;33m,\u001b[0m \u001b[0mmasses\u001b[0m\u001b[1;33m)\u001b[0m\u001b[1;33m\u001b[0m\u001b[1;33m\u001b[0m\u001b[0m\n\u001b[0m\u001b[0;32m      8\u001b[0m \u001b[1;33m\u001b[0m\u001b[0m\n\u001b[0;32m      9\u001b[0m     \u001b[0mt\u001b[0m \u001b[1;33m=\u001b[0m \u001b[0mt0\u001b[0m\u001b[1;33m\u001b[0m\u001b[1;33m\u001b[0m\u001b[0m\n",
      "\u001b[1;31mValueError\u001b[0m: cannot copy sequence with size 3 to array axis with dimension 2"
     ]
    }
   ],
   "source": [
    "history, energies, A = runLeapFrog(T, dt, y0, masses)\n",
    "\n",
    "fig = plt.figure()\n",
    "fig.suptitle('Prediction with Leapfrog method', fontsize=16)\n",
    "ax = plt.axes(projection='3d')\n",
    "ax.set_xlabel('x')\n",
    "ax.set_ylabel('y')\n",
    "ax.set_zlabel('z');\n",
    "\n",
    "ax.plot3D(history[:,0], history[:,1], history[:,2])\n",
    "ax.plot3D(history[:,6], history[:,7], history[:,8])\n",
    "ax.plot3D(history[:,12], history[:,13], history[:,14])\n",
    "print()"
   ]
  },
  {
   "cell_type": "code",
   "execution_count": 95,
   "metadata": {},
   "outputs": [
    {
     "data": {
      "image/png": "[encoded data removed]",
      "text/plain": [
       "<Figure size 360x360 with 1 Axes>"
      ]
     },
     "metadata": {
      "needs_background": "light"
     },
     "output_type": "display_data"
    }
   ],
   "source": [
    "plt.figure(figsize = (5,5))\n",
    "plt.plot(energies[:500,0]+energies[:500,1], 'y', label = 'Total Energy')\n",
    "plt.plot(energies[:500,1], 'r', label = 'PE')\n",
    "plt.plot(energies[:500,0], 'b', label = 'KE')\n",
    "plt.xlabel(\"Iterations\")\n",
    "plt.ylabel(\"Energy(J)\")\n",
    "plt.legend(loc=\"best\")\n",
    "plt.show()"
   ]
  },
  {
   "cell_type": "code",
   "execution_count": 93,
   "metadata": {},
   "outputs": [
    {
     "data": {
      "text/plain": [
       "array([[ 1.212858  , -2.49999999],\n",
       "       [ 1.21297559, -2.50011762],\n",
       "       [ 1.2133281 , -2.50047025],\n",
       "       ...,\n",
       "       [ 1.29761681, -2.58479382],\n",
       "       [ 1.29297513, -2.58014984],\n",
       "       [ 1.28834599, -2.57551845]])"
      ]
     },
     "execution_count": 93,
     "metadata": {},
     "output_type": "execute_result"
    }
   ],
   "source": [
    "energies"
   ]
  },
  {
   "cell_type": "code",
   "execution_count": null,
   "metadata": {},
   "outputs": [],
   "source": []
  }
 ],
 "metadata": {
  "kernelspec": {
   "display_name": "Python [conda env:py37vision] *",
   "language": "python",
   "name": "conda-env-py37vision-py"
  },
  "language_info": {
   "codemirror_mode": {
    "name": "ipython",
    "version": 3
   },
   "file_extension": ".py",
   "mimetype": "text/x-python",
   "name": "python",
   "nbconvert_exporter": "python",
   "pygments_lexer": "ipython3",
   "version": "3.7.9"
  }
 },
 "nbformat": 4,
 "nbformat_minor": 4
}
