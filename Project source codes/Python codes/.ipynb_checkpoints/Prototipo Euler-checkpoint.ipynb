{
 "cells": [
  {
   "cell_type": "code",
   "execution_count": 1,
   "metadata": {},
   "outputs": [],
   "source": [
    "# Library imports\n",
    "import scipy\n",
    "import numpy as np\n",
    "import matplotlib.pyplot as plt\n",
    "import astropy.units as u \n",
    "import astropy.constants as c \n",
    "from mpl_toolkits.mplot3d import Axes3D"
   ]
  },
  {
   "cell_type": "code",
   "execution_count": 2,
   "metadata": {},
   "outputs": [],
   "source": [
    "def evaluate(t, y):\n",
    "    NBodies = int(len(y)/6)\n",
    "    solved_vector = np.zeros(y.size)\n",
    "    \n",
    "    for i in range(NBodies):\n",
    "        ioffset = i*6\n",
    "        \n",
    "        for j in range(NBodies):\n",
    "            joffset = j*6\n",
    "            solved_vector[ioffset:ioffset+3] = y[ioffset+3:ioffset+6]\n",
    "            \n",
    "            if i != j:\n",
    "                d = y[ioffset:ioffset+3] - y[joffset:joffset+3]\n",
    "                r = np.sqrt(np.sum(d**2))\n",
    "                a = d*G*masses[j]/(r**3)\n",
    "                solved_vector[ioffset+3:ioffset+6] += a\n",
    "    \n",
    "    return solved_vector"
   ]
  },
  {
   "cell_type": "code",
   "execution_count": 3,
   "metadata": {},
   "outputs": [],
   "source": [
    "def euler(t,dt,y,evaluate):\n",
    "    k = dt * evaluate(t, y) \n",
    "    y_new = y + k\n",
    "    \n",
    "    return y_new"
   ]
  },
  {
   "cell_type": "code",
   "execution_count": null,
   "metadata": {},
   "outputs": [],
   "source": [
    "def run(T, dt, y0, masses, evaluate, t0 = 0):\n",
    "    nsteps = int((T-t0)/dt)\n",
    "    history = np.empty((nsteps+1, len(y0)))\n",
    "    history[0, :] = y0\n",
    "    \n",
    "    t = t0\n",
    "    for i in range(nsteps):\n",
    "        history[i+1] = euler(t, dt, history[i,:], evaluate) \n",
    "        t += dt\n",
    "    \n",
    "    return history"
   ]
  }
 ],
 "metadata": {
  "kernelspec": {
   "display_name": "Python 3",
   "language": "python",
   "name": "python3"
  },
  "language_info": {
   "codemirror_mode": {
    "name": "ipython",
    "version": 3
   },
   "file_extension": ".py",
   "mimetype": "text/x-python",
   "name": "python",
   "nbconvert_exporter": "python",
   "pygments_lexer": "ipython3",
   "version": "3.6.5"
  }
 },
 "nbformat": 4,
 "nbformat_minor": 2
}
