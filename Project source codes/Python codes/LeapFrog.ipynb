{
 "cells": [
  {
   "cell_type": "code",
   "execution_count": 74,
   "metadata": {},
   "outputs": [],
   "source": [
    "# Library imports\n",
    "import numpy as np\n",
    "import matplotlib.pyplot as plt"
   ]
  },
  {
   "cell_type": "code",
   "execution_count": 135,
   "metadata": {},
   "outputs": [],
   "source": [
    "def getAcc( pos, mass, G, softening ):\n",
    "    N = pos.shape[0];\n",
    "    a = np.zeros((N,3));\n",
    "\n",
    "    for i in range(N):\n",
    "        for j in range(N):\n",
    "            dx = pos[j,0] - pos[i,0];\n",
    "            dy = pos[j,1] - pos[i,1];\n",
    "            dz = pos[j,2] - pos[i,2];\n",
    "            inv_r3 = (dx**2 + dy**2 + dz**2 + softening**2)**(-1.5);\n",
    "            a[i,0] +=  G * (dx * inv_r3) * mass[j];\n",
    "            a[i,1] +=  G * (dy * inv_r3) * mass[j];\n",
    "            a[i,2] +=  G * (dz * inv_r3) * mass[j];\n",
    "\n",
    "    return a"
   ]
  },
  {
   "cell_type": "code",
   "execution_count": 147,
   "metadata": {},
   "outputs": [],
   "source": [
    "def getEnergy( pos, vel, mass, G ):\n",
    "    # Kinetic Energy:\n",
    "    KE = 0.5 * np.sum(np.sum( mass * vel**2 ))\n",
    "\n",
    "\n",
    "    # Potential Energy:\n",
    "\n",
    "    # positions r = [x,y,z] for all particles\n",
    "    x = pos[:,0:1]\n",
    "    y = pos[:,1:2]\n",
    "    z = pos[:,2:3]\n",
    "\n",
    "    # matrix that stores all pairwise particle separations: r_j - r_i\n",
    "    dx = x.T - x\n",
    "    dy = y.T - y\n",
    "    dz = z.T - z\n",
    "\n",
    "    # matrix that stores 1/r for all particle pairwise particle separations \n",
    "    inv_r = np.sqrt(dx**2 + dy**2 + dz**2 + 0.1)\n",
    "    inv_r = 1.0/inv_r\n",
    "\n",
    "    # sum over upper triangle, to count each interaction only once\n",
    "    PE = G * np.sum(np.sum(np.triu(-(mass*mass.T)*inv_r,1)))\n",
    "\n",
    "    return KE, PE;"
   ]
  },
  {
   "cell_type": "code",
   "execution_count": 160,
   "metadata": {},
   "outputs": [],
   "source": [
    "def leapFrogCalculation(y0, masses):\n",
    "    # Simulation parameters\n",
    "    t         = 0        # current time of the simulation\n",
    "    tEnd      = 6.221e6   # time at which simulation ends\n",
    "    dt        = 3600   # timestep\n",
    "    softening = 0.1    # softening length\n",
    "    G         = -6.67*(10**-11)    # Newton's Gravitational Constant\n",
    "\n",
    "    \n",
    "    y0 = y0.reshape(-1, 3)\n",
    "    print(\"y0 is: \",y0)\n",
    "    \n",
    "    mass = masses.reshape(-1,1)  \n",
    "    pos  = y0[::2]\n",
    "    vel  = y0[1::2]\n",
    "\n",
    "    \n",
    "    \n",
    "    print(\"Positions are: \", pos)\n",
    "    print(\"Velocities are: \", vel)\n",
    "    print(\"Masses are: \", mass)\n",
    "    \n",
    "    \n",
    "    # Convert to Center-of-Mass frame\n",
    "#     vel -= np.mean(mass * vel,0) / np.mean(mass)\n",
    "\n",
    "    # calculate initial gravitational accelerations\n",
    "    acc = getAcc( pos, mass, G, softening )\n",
    "\n",
    "    # calculate initial energy of system\n",
    "    KE, PE  = getEnergy( pos, vel, mass, G )\n",
    "\n",
    "    # number of timesteps\n",
    "    Nt = int(np.ceil(tEnd/dt))\n",
    "\n",
    "    # save energies, particle orbits for plotting trails\n",
    "    pos_save = np.zeros((len(pos),3,Nt+1))\n",
    "    pos_save[:,:,0] = pos\n",
    "    KE_save = np.zeros(Nt+1)\n",
    "    KE_save[0] = KE\n",
    "    PE_save = np.zeros(Nt+1)\n",
    "    PE_save[0] = PE\n",
    "    t_all = np.arange(Nt+1)*dt\n",
    "\n",
    "    # Simulation Main Loop\n",
    "    for i in range(Nt):\n",
    "        # (1/2) kick\n",
    "        print(\"Velocities shape: \", vel.shape)\n",
    "        print(\"Acceleration shape: \",acc.shape)\n",
    "        vel += acc * dt/2.0\n",
    "\n",
    "        # drift\n",
    "        pos += vel * dt\n",
    "\n",
    "        # update accelerations\n",
    "        acc = getAcc( pos, mass, G, softening )\n",
    "\n",
    "        # (1/2) kick\n",
    "        \n",
    "        vel += acc * dt/2.0\n",
    "\n",
    "        # update time\n",
    "        t += dt\n",
    "\n",
    "        # get energy of system\n",
    "        KE, PE  = getEnergy( pos, vel, mass, G )\n",
    "\n",
    "        # save energies, positions for plotting trail\n",
    "        pos_save[:,:,i+1] = pos\n",
    "        KE_save[i+1] = KE\n",
    "        PE_save[i+1] = PE\n",
    "\n",
    "        return pos_save"
   ]
  },
  {
   "cell_type": "code",
   "execution_count": 161,
   "metadata": {},
   "outputs": [],
   "source": [
    "# Variable declaration 1\n",
    "G = -6.67*(10**-11)\n",
    "t0 = 0\n",
    "T = 6.221e6\n",
    "dt = 3600  \n",
    "y0 = np.array([3.84e8, 0, 0, 0, 1000, 0,\n",
    "               0, 0, 0, 0, 0, 0])\n",
    "masses = np.array([7.347e22, 5.97e24])"
   ]
  },
  {
   "cell_type": "code",
   "execution_count": 162,
   "metadata": {},
   "outputs": [
    {
     "name": "stdout",
     "output_type": "stream",
     "text": [
      "y0 is:  [[3.84e+08 0.00e+00 0.00e+00]\n",
      " [0.00e+00 1.00e+03 0.00e+00]\n",
      " [0.00e+00 0.00e+00 0.00e+00]\n",
      " [0.00e+00 0.00e+00 0.00e+00]]\n",
      "Positions are:  [[3.84e+08 0.00e+00 0.00e+00]\n",
      " [0.00e+00 0.00e+00 0.00e+00]]\n",
      "Velocities are:  [[   0. 1000.    0.]\n",
      " [   0.    0.    0.]]\n",
      "Masses are:  [[7.347e+22]\n",
      " [5.970e+24]]\n",
      "Velocities shape:  (2, 3)\n",
      "Acceleration shape:  (2, 3)\n"
     ]
    }
   ],
   "source": [
    "HLF = leapFrogCalculation(y0, masses)"
   ]
  },
  {
   "cell_type": "code",
   "execution_count": 163,
   "metadata": {},
   "outputs": [
    {
     "name": "stdout",
     "output_type": "stream",
     "text": [
      "\n"
     ]
    },
    {
     "data": {
      "image/png": "[encoded data removed]",
      "text/plain": [
       "<Figure size 432x288 with 1 Axes>"
      ]
     },
     "metadata": {
      "needs_background": "light"
     },
     "output_type": "display_data"
    }
   ],
   "source": [
    "fig = plt.figure()\n",
    "fig.suptitle('Prediction with Leapfrog method', fontsize=16)\n",
    "ax = plt.axes(projection='3d')\n",
    "ax.set_xlabel('x')\n",
    "ax.set_ylabel('y')\n",
    "ax.set_zlabel('z');\n",
    "\n",
    "ax.plot3D(HLF[0,0,:], HLF[0,1,:], HLF[0,2,:])\n",
    "ax.plot3D(HLF[1,0,:], HLF[1,1,:], HLF[1,2,:])\n",
    "\n",
    "print()"
   ]
  },
  {
   "cell_type": "code",
   "execution_count": 155,
   "metadata": {},
   "outputs": [
    {
     "name": "stdout",
     "output_type": "stream",
     "text": [
      "[3.84000000e+08 2.13389795e+09 0.00000000e+00 0.00000000e+00\n",
      " 0.00000000e+00 0.00000000e+00 0.00000000e+00 0.00000000e+00\n",
      " 0.00000000e+00 0.00000000e+00 0.00000000e+00 0.00000000e+00\n",
      " 0.00000000e+00 0.00000000e+00 0.00000000e+00 0.00000000e+00\n",
      " 0.00000000e+00 0.00000000e+00 0.00000000e+00 0.00000000e+00\n",
      " 0.00000000e+00 0.00000000e+00 0.00000000e+00 0.00000000e+00\n",
      " 0.00000000e+00 0.00000000e+00 0.00000000e+00 0.00000000e+00\n",
      " 0.00000000e+00 0.00000000e+00 0.00000000e+00 0.00000000e+00\n",
      " 0.00000000e+00 0.00000000e+00 0.00000000e+00 0.00000000e+00\n",
      " 0.00000000e+00 0.00000000e+00 0.00000000e+00 0.00000000e+00\n",
      " 0.00000000e+00 0.00000000e+00 0.00000000e+00 0.00000000e+00\n",
      " 0.00000000e+00 0.00000000e+00 0.00000000e+00 0.00000000e+00\n",
      " 0.00000000e+00 0.00000000e+00 0.00000000e+00 0.00000000e+00\n",
      " 0.00000000e+00 0.00000000e+00 0.00000000e+00 0.00000000e+00\n",
      " 0.00000000e+00 0.00000000e+00 0.00000000e+00 0.00000000e+00\n",
      " 0.00000000e+00 0.00000000e+00 0.00000000e+00 0.00000000e+00\n",
      " 0.00000000e+00 0.00000000e+00 0.00000000e+00 0.00000000e+00\n",
      " 0.00000000e+00 0.00000000e+00 0.00000000e+00 0.00000000e+00\n",
      " 0.00000000e+00 0.00000000e+00 0.00000000e+00 0.00000000e+00\n",
      " 0.00000000e+00 0.00000000e+00 0.00000000e+00 0.00000000e+00\n",
      " 0.00000000e+00 0.00000000e+00 0.00000000e+00 0.00000000e+00\n",
      " 0.00000000e+00 0.00000000e+00 0.00000000e+00 0.00000000e+00\n",
      " 0.00000000e+00 0.00000000e+00 0.00000000e+00 0.00000000e+00\n",
      " 0.00000000e+00 0.00000000e+00 0.00000000e+00 0.00000000e+00\n",
      " 0.00000000e+00 0.00000000e+00 0.00000000e+00 0.00000000e+00]\n"
     ]
    }
   ],
   "source": [
    "print(HLF[0,0,0:100])"
   ]
  },
  {
   "cell_type": "code",
   "execution_count": null,
   "metadata": {},
   "outputs": [],
   "source": []
  }
 ],
 "metadata": {
  "kernelspec": {
   "display_name": "Python 3",
   "language": "python",
   "name": "python3"
  },
  "language_info": {
   "codemirror_mode": {
    "name": "ipython",
    "version": 3
   },
   "file_extension": ".py",
   "mimetype": "text/x-python",
   "name": "python",
   "nbconvert_exporter": "python",
   "pygments_lexer": "ipython3",
   "version": "3.7.9"
  }
 },
 "nbformat": 4,
 "nbformat_minor": 2
}
