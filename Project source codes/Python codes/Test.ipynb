{
 "cells": [
  {
   "cell_type": "code",
   "execution_count": 1,
   "metadata": {},
   "outputs": [],
   "source": [
    "# Library imports\n",
    "import scipy\n",
    "import numpy as np\n",
    "import matplotlib.pyplot as plt\n",
    "from mpl_toolkits.mplot3d import Axes3D"
   ]
  },
  {
   "cell_type": "code",
   "execution_count": 2,
   "metadata": {},
   "outputs": [],
   "source": [
    "def rk4(t,dt,y,evaluate):\n",
    "    k1 = dt * evaluate(t, y) \n",
    "    k2 = dt * evaluate(t + 0.5*dt, y + 0.5*k1)\n",
    "    k3 = dt * evaluate(t + 0.5*dt, y + 0.5*k2)\n",
    "    k4 = dt * evaluate(t + dt, y + k3)\n",
    "    \n",
    "    y_new = y + (1/6.)*(k1+ 2*k2 + 2*k3 + k4)\n",
    "    \n",
    "    return y_new"
   ]
  },
  {
   "cell_type": "code",
   "execution_count": 3,
   "metadata": {},
   "outputs": [],
   "source": [
    "def run(T, dt, y0, masses, evaluate, t0 = 0):\n",
    "    nsteps = int((T-t0)/dt)\n",
    "    history = np.empty((nsteps+1, len(y0)))\n",
    "    history[0, :] = y0\n",
    "    \n",
    "    t = t0\n",
    "    for i in range(nsteps):\n",
    "        history[i+1] = rk4(t, dt, history[i,:], evaluate) \n",
    "        t += dt\n",
    "    \n",
    "    return history"
   ]
  },
  {
   "cell_type": "code",
   "execution_count": 4,
   "metadata": {},
   "outputs": [],
   "source": [
    "def showSimulation(history, projection):\n",
    "    \n",
    "    for method in history:\n",
    "        nBodies = int(len(history[method][0])/6)\n",
    "        if projection == '2d':\n",
    "            fig = plt.figure()\n",
    "            fig.suptitle('Prediction with ' + method + ' method', fontsize=16)\n",
    "            ax = plt.axes()\n",
    "            ax.set_xlabel('x')\n",
    "            ax.set_ylabel('y')\n",
    "            for i in range(nBodies):\n",
    "                ax.plot(history[method][:,i*6], history[method][:,i*6 + 1])\n",
    "                \n",
    "        elif projection == '3d':\n",
    "            fig = plt.figure()\n",
    "            fig.suptitle('Prediction with ' + method + ' method', fontsize=16)\n",
    "            ax = plt.axes(projection='3d')\n",
    "            ax.set_xlabel('x')\n",
    "            ax.set_ylabel('y')\n",
    "            ax.set_zlabel('z');\n",
    "            for i in range(nBodies):\n",
    "                ax.plot3D(history[method][:,i*6], history[method][:,i*6 + 1], history[method][:,i*6 + 2])\n",
    "    \n",
    "    \n",
    "    return "
   ]
  },
  {
   "cell_type": "code",
   "execution_count": 10,
   "metadata": {},
   "outputs": [],
   "source": [
    "def evaluate(t, y):\n",
    "    NBodies = int(len(y)/6)\n",
    "    solved_vector = np.zeros(y.size)\n",
    "    \n",
    "    for i in range(NBodies):\n",
    "        ioffset = i*6\n",
    "        solved_vector[ioffset:ioffset+3] = y[ioffset+3:ioffset+6]\n",
    "\n",
    "        \n",
    "        for j in range(NBodies):\n",
    "            joffset = j*6\n",
    "            \n",
    "            if i != j:\n",
    "                d = y[ioffset:ioffset+3] - y[joffset:joffset+3]\n",
    "                r = np.sqrt(np.sum(d**2))\n",
    "                a = d*G*masses[j]/(r**3)\n",
    "                solved_vector[ioffset+3:ioffset+6] += a\n",
    "    return solved_vector"
   ]
  },
  {
   "cell_type": "code",
   "execution_count": 6,
   "metadata": {},
   "outputs": [],
   "source": [
    "# Variable declaration 1 -> Earth and Moon\n",
    "G = -6.67*(10**-11)\n",
    "t0 = 0\n",
    "T = 6.221e6\n",
    "dt = 3600 \n",
    "y0 = np.array([3.84e8, 0, 0, 0, 1000, 0,\n",
    "               0, 0, 0, 0, 0, 0])\n",
    "masses = np.array([7.347e22, 5.97e24])"
   ]
  },
  {
   "cell_type": "code",
   "execution_count": 7,
   "metadata": {},
   "outputs": [],
   "source": [
    "# Variable declaration 2 -> Saturn, Janus and Epithemeus\n",
    "G = -6.67*(10**-20)\n",
    "t0 = 0\n",
    "T = 6.221e6\n",
    "dt = 360\n",
    "y0 = np.array([0, 0, 0, 0, 0, 0,                                  #Saturn\n",
    "               0.11e6, 0.93e5, -0.17e5, -0.99e1, 0.12e2, -0.8e-1, #Janus\n",
    "              0.19e5, -0.14e6,0.15e5,0.16e2, 0.17e1, -0.15e1])    #Epithemeus\n",
    "masses = np.array([5.68e26, 1.89e18, 5.26e17])"
   ]
  },
  {
   "cell_type": "code",
   "execution_count": 8,
   "metadata": {},
   "outputs": [],
   "source": [
    "# Variable declaration 4 -> figure 8\n",
    "G = -1\n",
    "t0 = 0\n",
    "T = 5\n",
    "dt = 0.5\n",
    "y0 = np.array([0.97000436, -0.24308753, 0,  0.93240737/2, 0.86473146/2, 0,\n",
    "                -0.97000436, 0.24308753,0, 0.93240737/2, 0.86473146/2, 0,\n",
    "                0,0,0,-0.93240737,  -0.86473146,0])\n",
    "masses = np.array([1, 1, 1])"
   ]
  },
  {
   "cell_type": "code",
   "execution_count": 11,
   "metadata": {},
   "outputs": [],
   "source": [
    "# Calculation\n",
    "history = {}\n",
    "history['Runge Kutta 4'] = run(T, dt, y0, masses, evaluate)"
   ]
  },
  {
   "cell_type": "code",
   "execution_count": 12,
   "metadata": {},
   "outputs": [
    {
     "data": {
      "image/png": "[encoded data removed]",
      "text/plain": [
       "<Figure size 432x288 with 1 Axes>"
      ]
     },
     "metadata": {
      "needs_background": "light"
     },
     "output_type": "display_data"
    }
   ],
   "source": [
    "showSimulation(history, '2d')"
   ]
  },
  {
   "cell_type": "code",
   "execution_count": null,
   "metadata": {},
   "outputs": [],
   "source": []
  }
 ],
 "metadata": {
  "kernelspec": {
   "display_name": "Python 3",
   "language": "python",
   "name": "python3"
  },
  "language_info": {
   "codemirror_mode": {
    "name": "ipython",
    "version": 3
   },
   "file_extension": ".py",
   "mimetype": "text/x-python",
   "name": "python",
   "nbconvert_exporter": "python",
   "pygments_lexer": "ipython3",
   "version": "3.7.9"
  }
 },
 "nbformat": 4,
 "nbformat_minor": 2
}
